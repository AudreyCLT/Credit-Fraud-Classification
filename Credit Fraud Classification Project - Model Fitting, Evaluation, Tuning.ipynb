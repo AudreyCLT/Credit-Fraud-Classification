{
 "cells": [
  {
   "cell_type": "code",
   "execution_count": 1,
   "metadata": {},
   "outputs": [],
   "source": [
    "import pandas as pd\n",
    "import numpy as np\n",
    "\n",
    "from sklearn.linear_model import LogisticRegression\n",
    "\n",
    "from sklearn.neighbors import KNeighborsClassifier\n",
    "\n",
    "from sklearn.svm import SVC\n",
    "\n",
    "from sklearn.preprocessing import StandardScaler\n",
    "\n",
    "from sklearn.tree import DecisionTreeClassifier\n",
    "from sklearn.metrics import classification_report, precision_recall_curve, recall_score,accuracy_score\n",
    "from sklearn.ensemble import RandomForestClassifier, GradientBoostingClassifier\n",
    "\n",
    "from sklearn.model_selection import GridSearchCV, RandomizedSearchCV\n"
   ]
  },
  {
   "cell_type": "code",
   "execution_count": 2,
   "metadata": {},
   "outputs": [],
   "source": [
    "X_train = pd.read_csv('X_train')\n",
    "X_test = pd.read_csv('X_test')\n",
    "y_train = pd.read_csv('y_train')\n",
    "y_test = pd.read_csv('y_test')\n"
   ]
  },
  {
   "cell_type": "markdown",
   "metadata": {},
   "source": [
    "## 1. Fitting in Models"
   ]
  },
  {
   "cell_type": "markdown",
   "metadata": {},
   "source": [
    "### Logistic Regression"
   ]
  },
  {
   "cell_type": "code",
   "execution_count": 8,
   "metadata": {},
   "outputs": [],
   "source": [
    "def run_logisticRegressor(X_train, X_test, y_train, y_test):\n",
    "    lr = LogisticRegression()\n",
    "    lr.fit(X_train, y_train)\n",
    "    print('Train set')\n",
    "    pred = lr.predict(X_train)\n",
    "    print('Logistic Regression Mean Accuracy: {}'.format(lr.score(X_train, y_train)))\n",
    "    print('Logistic Regression Recall: {}'.format(recall_score(y_train, pred)))\n",
    "    \n",
    "    print('Test set')\n",
    "    pred = lr.predict(X_test)\n",
    "    print('Logistic Regression Mean Accuracy: {}'.format(lr.score(X_test, y_test)))\n",
    "    print('Logistic Regression Recall: {}'.format(recall_score(y_test, pred)))\n",
    "\n",
    "    print(classification_report(y_test, pred))"
   ]
  },
  {
   "cell_type": "code",
   "execution_count": 30,
   "metadata": {},
   "outputs": [
    {
     "name": "stderr",
     "output_type": "stream",
     "text": [
      "/Users/audreytang/anaconda3/lib/python3.6/site-packages/sklearn/utils/validation.py:73: DataConversionWarning: A column-vector y was passed when a 1d array was expected. Please change the shape of y to (n_samples, ), for example using ravel().\n",
      "  return f(**kwargs)\n"
     ]
    },
    {
     "name": "stdout",
     "output_type": "stream",
     "text": [
      "Train set\n",
      "Logistic Regression Mean Accuracy: 0.9324888578477432\n",
      "Logistic Regression Recall: 0.8686356579020094\n",
      "Test set\n",
      "Logistic Regression Mean Accuracy: 0.9967463689243121\n",
      "Logistic Regression Recall: 0.8503401360544217\n",
      "              precision    recall  f1-score   support\n",
      "\n",
      "           0       1.00      1.00      1.00     85296\n",
      "           1       0.33      0.85      0.47       147\n",
      "\n",
      "    accuracy                           1.00     85443\n",
      "   macro avg       0.66      0.92      0.74     85443\n",
      "weighted avg       1.00      1.00      1.00     85443\n",
      "\n"
     ]
    }
   ],
   "source": [
    "run_logisticRegressor(X_train,\n",
    "                  X_test,\n",
    "                  y_train, y_test)\n",
    "\n",
    "\n"
   ]
  },
  {
   "cell_type": "markdown",
   "metadata": {},
   "source": [
    "### Nearest Neighbors"
   ]
  },
  {
   "cell_type": "code",
   "execution_count": 15,
   "metadata": {},
   "outputs": [],
   "source": [
    "def run_nearestNeighbors(X_train, X_test, y_train, y_test):\n",
    "    neigh = KNeighborsClassifier(n_neighbors=50)\n",
    "    neigh.fit(X_train, y_train)\n",
    "    print('Train set')\n",
    "    pred = neigh.predict(X_train)\n",
    "    print('Nearest Neighbors Classifier Mean Accuracy: {}'.format(neigh.score(X_train, y_train)))\n",
    "    print('Nearest Neighbors Classifier Recall: {}'.format(recall_score(y_train, pred)))\n",
    "    \n",
    "    print('Test set')\n",
    "    pred = neigh.predict(X_test)\n",
    "    print('Nearest Neighbors Classifier Mean Accuracy: {}'.format(neigh.score(X_test, y_test)))\n",
    "    print('Nearest Neighbors Classifier Recall: {}'.format(recall_score(y_test, pred)))\n",
    "\n",
    "    print(classification_report(y_test, pred))"
   ]
  },
  {
   "cell_type": "code",
   "execution_count": 31,
   "metadata": {},
   "outputs": [
    {
     "name": "stderr",
     "output_type": "stream",
     "text": [
      "/Users/audreytang/anaconda3/lib/python3.6/site-packages/ipykernel_launcher.py:3: DataConversionWarning: A column-vector y was passed when a 1d array was expected. Please change the shape of y to (n_samples, ), for example using ravel().\n",
      "  This is separate from the ipykernel package so we can avoid doing imports until\n"
     ]
    },
    {
     "name": "stdout",
     "output_type": "stream",
     "text": [
      "Train set\n",
      "Nearest Neighbors Classifier Mean Accuracy: 0.9870263643169748\n",
      "Nearest Neighbors Classifier Recall: 0.9906742572317216\n",
      "Test set\n",
      "Nearest Neighbors Classifier Mean Accuracy: 0.9830998443406715\n",
      "Nearest Neighbors Classifier Recall: 0.8639455782312925\n",
      "              precision    recall  f1-score   support\n",
      "\n",
      "           0       1.00      0.98      0.99     85296\n",
      "           1       0.08      0.86      0.15       147\n",
      "\n",
      "    accuracy                           0.98     85443\n",
      "   macro avg       0.54      0.92      0.57     85443\n",
      "weighted avg       1.00      0.98      0.99     85443\n",
      "\n"
     ]
    }
   ],
   "source": [
    "run_nearestNeighbors(X_train,\n",
    "                  X_test,\n",
    "                  y_train, y_test)"
   ]
  },
  {
   "cell_type": "markdown",
   "metadata": {},
   "source": [
    "### SVM"
   ]
  },
  {
   "cell_type": "code",
   "execution_count": 16,
   "metadata": {},
   "outputs": [],
   "source": [
    "def run_SVC(X_train, X_test, y_train, y_test):\n",
    "    svc = SVC()\n",
    "    svc.fit(X_train, y_train)\n",
    "    print('Train set')\n",
    "    pred = svc.predict(X_train)\n",
    "    print('Support Vector Classifier Mean Accuracy: {}'.format(svc.score(X_train, y_train)))\n",
    "    print('Support Vector Classifier Recall: {}'.format(recall_score(y_train, pred)))\n",
    "    \n",
    "    print('Test set')\n",
    "    pred = svc.predict(X_test)\n",
    "    print('Support Vector Classifier Mean Accuracy: {}'.format(svc.score(X_test, y_test)))\n",
    "    print('Support Vector Classifier Recall: {}'.format(recall_score(y_test, pred)))\n",
    "    \n",
    "    print(classification_report(y_test, pred))\n"
   ]
  },
  {
   "cell_type": "code",
   "execution_count": 32,
   "metadata": {},
   "outputs": [
    {
     "name": "stderr",
     "output_type": "stream",
     "text": [
      "/Users/audreytang/anaconda3/lib/python3.6/site-packages/sklearn/utils/validation.py:73: DataConversionWarning: A column-vector y was passed when a 1d array was expected. Please change the shape of y to (n_samples, ), for example using ravel().\n",
      "  return f(**kwargs)\n"
     ]
    },
    {
     "name": "stdout",
     "output_type": "stream",
     "text": [
      "Train set\n",
      "Support Vector Classifier Mean Accuracy: 0.9466407729915234\n",
      "Support Vector Classifier Recall: 0.9026223626889895\n",
      "Test set\n",
      "Support Vector Classifier Mean Accuracy: 0.9911988109031752\n",
      "Support Vector Classifier Recall: 0.8163265306122449\n",
      "              precision    recall  f1-score   support\n",
      "\n",
      "           0       1.00      0.99      1.00     85296\n",
      "           1       0.14      0.82      0.24       147\n",
      "\n",
      "    accuracy                           0.99     85443\n",
      "   macro avg       0.57      0.90      0.62     85443\n",
      "weighted avg       1.00      0.99      0.99     85443\n",
      "\n"
     ]
    }
   ],
   "source": [
    "run_SVC(X_train,\n",
    "                  X_test,\n",
    "                  y_train, y_test)"
   ]
  },
  {
   "cell_type": "markdown",
   "metadata": {},
   "source": [
    "### Decision Tree"
   ]
  },
  {
   "cell_type": "code",
   "execution_count": 18,
   "metadata": {},
   "outputs": [],
   "source": [
    "def run_decisionTree(X_train, X_test, y_train, y_test):\n",
    "    dt = DecisionTreeClassifier()\n",
    "    dt.fit(X_train, y_train)\n",
    "    print('Train set')\n",
    "    pred = dt.predict(X_train)\n",
    "    print('Decision Tree Classifier Mean Accuracy: {}'.format(dt.score(X_train, y_train)))\n",
    "    print('Decision Tree Classifier Recall: {}'.format(recall_score(y_train, pred)))\n",
    "    \n",
    "    print('Test set')\n",
    "    pred = dt.predict(X_test)\n",
    "    print('Decision Tree Classifier Mean Accuracy: {}'.format(dt.score(X_test, y_test)))\n",
    "    print('Decision Tree Classifier Recall: {}'.format(recall_score(y_test, pred)))\n",
    "\n",
    "    print(classification_report(y_test, pred))\n"
   ]
  },
  {
   "cell_type": "code",
   "execution_count": 33,
   "metadata": {},
   "outputs": [
    {
     "name": "stdout",
     "output_type": "stream",
     "text": [
      "Train set\n",
      "Decision Tree Classifier Mean Accuracy: 0.9991834950431868\n",
      "Decision Tree Classifier Recall: 0.9997085705384913\n",
      "Test set\n",
      "Decision Tree Classifier Mean Accuracy: 0.996044146389991\n",
      "Decision Tree Classifier Recall: 0.7755102040816326\n",
      "              precision    recall  f1-score   support\n",
      "\n",
      "           0       1.00      1.00      1.00     85296\n",
      "           1       0.27      0.78      0.40       147\n",
      "\n",
      "    accuracy                           1.00     85443\n",
      "   macro avg       0.64      0.89      0.70     85443\n",
      "weighted avg       1.00      1.00      1.00     85443\n",
      "\n"
     ]
    }
   ],
   "source": [
    "run_decisionTree(X_train,\n",
    "                  X_test,\n",
    "                  y_train, y_test)"
   ]
  },
  {
   "cell_type": "markdown",
   "metadata": {},
   "source": [
    "### Random Forest"
   ]
  },
  {
   "cell_type": "code",
   "execution_count": 23,
   "metadata": {},
   "outputs": [],
   "source": [
    "def run_randomForests(X_train, X_test, y_train, y_test):\n",
    "    rf = RandomForestClassifier(n_estimators=200, random_state=39, max_depth=4)\n",
    "    rf.fit(X_train, y_train)\n",
    "    print('Train set')\n",
    "    pred = rf.predict(X_train)\n",
    "    print('Random Forests Mean Accuracy: {}'.format(accuracy_score(y_train, pred)))\n",
    "    print('Random Forests Recall: {}'.format(recall_score(y_train, pred)))\n",
    "    \n",
    "    print('Test set')\n",
    "    pred = rf.predict(X_test)\n",
    "    print('Random Forests Mean Accuracy: {}'.format(accuracy_score(y_test, pred)))\n",
    "    print('Random Forests Recall: {}'.format(recall_score(y_test, pred)))\n",
    "\n",
    "    print(classification_report(y_test, pred))\n"
   ]
  },
  {
   "cell_type": "code",
   "execution_count": 34,
   "metadata": {},
   "outputs": [
    {
     "name": "stderr",
     "output_type": "stream",
     "text": [
      "/Users/audreytang/anaconda3/lib/python3.6/site-packages/ipykernel_launcher.py:3: DataConversionWarning: A column-vector y was passed when a 1d array was expected. Please change the shape of y to (n_samples,), for example using ravel().\n",
      "  This is separate from the ipykernel package so we can avoid doing imports until\n"
     ]
    },
    {
     "name": "stdout",
     "output_type": "stream",
     "text": [
      "Train set\n",
      "Random Forests Mean Accuracy: 0.9694426160316352\n",
      "Random Forests Recall: 0.9487335380039091\n",
      "Test set\n",
      "Random Forests Mean Accuracy: 0.9902625141907471\n",
      "Random Forests Recall: 0.8639455782312925\n",
      "              precision    recall  f1-score   support\n",
      "\n",
      "           0       1.00      0.99      1.00     85296\n",
      "           1       0.14      0.86      0.23       147\n",
      "\n",
      "    accuracy                           0.99     85443\n",
      "   macro avg       0.57      0.93      0.61     85443\n",
      "weighted avg       1.00      0.99      0.99     85443\n",
      "\n"
     ]
    }
   ],
   "source": [
    "run_randomForests(X_train,\n",
    "                  X_test,\n",
    "                  y_train, y_test)"
   ]
  },
  {
   "cell_type": "markdown",
   "metadata": {},
   "source": [
    "### Gradient Boosting"
   ]
  },
  {
   "cell_type": "code",
   "execution_count": 25,
   "metadata": {},
   "outputs": [],
   "source": [
    "def run_gradientboosting(X_train, X_test, y_train, y_test):\n",
    "    gb = GradientBoostingClassifier(n_estimators=100,random_state=0)\n",
    "    gb.fit(X_train, y_train)\n",
    "    print('Train set')\n",
    "    pred = gb.predict(X_train)\n",
    "    print('Gradient Boosting Mean Accuracy: {}'.format(accuracy_score(y_train, pred)))\n",
    "    print('Gradient Boosting Recall: {}'.format(recall_score(y_train, pred)))\n",
    "    \n",
    "    print('Test set')\n",
    "    pred = gb.predict(X_test)\n",
    "    print('Gradient Boosting Mean Accuracy: {}'.format(accuracy_score(y_test, pred)))\n",
    "    print('Gradient Boosting Recall: {}'.format(recall_score(y_test, pred)))\n",
    "\n",
    "    print(classification_report(y_test, pred))\n"
   ]
  },
  {
   "cell_type": "code",
   "execution_count": 35,
   "metadata": {},
   "outputs": [
    {
     "name": "stderr",
     "output_type": "stream",
     "text": [
      "/Users/audreytang/anaconda3/lib/python3.6/site-packages/sklearn/utils/validation.py:73: DataConversionWarning: A column-vector y was passed when a 1d array was expected. Please change the shape of y to (n_samples, ), for example using ravel().\n",
      "  return f(**kwargs)\n"
     ]
    },
    {
     "name": "stdout",
     "output_type": "stream",
     "text": [
      "Train set\n",
      "Gradient Boosting Mean Accuracy: 0.98089880865646\n",
      "Gradient Boosting Recall: 0.9724398173038755\n",
      "Test set\n",
      "Gradient Boosting Mean Accuracy: 0.9893613286050349\n",
      "Gradient Boosting Recall: 0.8775510204081632\n"
     ]
    }
   ],
   "source": [
    "run_gradientboosting(X_train,\n",
    "                  X_test,\n",
    "                  y_train, y_test)"
   ]
  },
  {
   "cell_type": "code",
   "execution_count": 29,
   "metadata": {},
   "outputs": [
    {
     "data": {
      "text/html": [
       "<div>\n",
       "<style scoped>\n",
       "    .dataframe tbody tr th:only-of-type {\n",
       "        vertical-align: middle;\n",
       "    }\n",
       "\n",
       "    .dataframe tbody tr th {\n",
       "        vertical-align: top;\n",
       "    }\n",
       "\n",
       "    .dataframe thead th {\n",
       "        text-align: right;\n",
       "    }\n",
       "</style>\n",
       "<table border=\"1\" class=\"dataframe\">\n",
       "  <thead>\n",
       "    <tr style=\"text-align: right;\">\n",
       "      <th></th>\n",
       "      <th>V3</th>\n",
       "      <th>V4</th>\n",
       "      <th>V10</th>\n",
       "      <th>V11</th>\n",
       "      <th>V12</th>\n",
       "      <th>V14</th>\n",
       "      <th>V16</th>\n",
       "      <th>V17</th>\n",
       "    </tr>\n",
       "  </thead>\n",
       "  <tbody>\n",
       "    <tr>\n",
       "      <th>0</th>\n",
       "      <td>0.227616</td>\n",
       "      <td>0.018083</td>\n",
       "      <td>0.099318</td>\n",
       "      <td>0.188327</td>\n",
       "      <td>0.029645</td>\n",
       "      <td>0.020877</td>\n",
       "      <td>0.742579</td>\n",
       "      <td>0.097345</td>\n",
       "    </tr>\n",
       "    <tr>\n",
       "      <th>1</th>\n",
       "      <td>0.469216</td>\n",
       "      <td>0.083397</td>\n",
       "      <td>0.075784</td>\n",
       "      <td>0.019857</td>\n",
       "      <td>0.015978</td>\n",
       "      <td>0.026405</td>\n",
       "      <td>0.125902</td>\n",
       "      <td>0.283255</td>\n",
       "    </tr>\n",
       "    <tr>\n",
       "      <th>2</th>\n",
       "      <td>0.026194</td>\n",
       "      <td>0.140226</td>\n",
       "      <td>0.044724</td>\n",
       "      <td>0.974699</td>\n",
       "      <td>0.053992</td>\n",
       "      <td>0.181934</td>\n",
       "      <td>0.140324</td>\n",
       "      <td>0.283255</td>\n",
       "    </tr>\n",
       "    <tr>\n",
       "      <th>3</th>\n",
       "      <td>0.117023</td>\n",
       "      <td>0.018083</td>\n",
       "      <td>0.072942</td>\n",
       "      <td>0.095292</td>\n",
       "      <td>0.342553</td>\n",
       "      <td>0.026405</td>\n",
       "      <td>0.330268</td>\n",
       "      <td>0.156723</td>\n",
       "    </tr>\n",
       "    <tr>\n",
       "      <th>4</th>\n",
       "      <td>0.068908</td>\n",
       "      <td>0.018083</td>\n",
       "      <td>0.195926</td>\n",
       "      <td>0.051653</td>\n",
       "      <td>0.342553</td>\n",
       "      <td>2.683850</td>\n",
       "      <td>0.125064</td>\n",
       "      <td>0.156723</td>\n",
       "    </tr>\n",
       "  </tbody>\n",
       "</table>\n",
       "</div>"
      ],
      "text/plain": [
       "         V3        V4       V10       V11       V12       V14       V16  \\\n",
       "0  0.227616  0.018083  0.099318  0.188327  0.029645  0.020877  0.742579   \n",
       "1  0.469216  0.083397  0.075784  0.019857  0.015978  0.026405  0.125902   \n",
       "2  0.026194  0.140226  0.044724  0.974699  0.053992  0.181934  0.140324   \n",
       "3  0.117023  0.018083  0.072942  0.095292  0.342553  0.026405  0.330268   \n",
       "4  0.068908  0.018083  0.195926  0.051653  0.342553  2.683850  0.125064   \n",
       "\n",
       "        V17  \n",
       "0  0.097345  \n",
       "1  0.283255  \n",
       "2  0.283255  \n",
       "3  0.156723  \n",
       "4  0.156723  "
      ]
     },
     "execution_count": 29,
     "metadata": {},
     "output_type": "execute_result"
    }
   ],
   "source": [
    "X_train.head()"
   ]
  },
  {
   "cell_type": "markdown",
   "metadata": {},
   "source": [
    "## 2. Tuning Hyperparameters"
   ]
  },
  {
   "cell_type": "markdown",
   "metadata": {},
   "source": [
    "As SVC is the best performing model, we will tune the model's hyperparameters to achieve better results."
   ]
  },
  {
   "cell_type": "code",
   "execution_count": null,
   "metadata": {},
   "outputs": [
    {
     "name": "stderr",
     "output_type": "stream",
     "text": [
      "/Users/audreytang/anaconda3/lib/python3.6/site-packages/sklearn/model_selection/_search.py:282: UserWarning: The total space of parameters 25 is smaller than n_iter=100. Running 25 iterations. For exhaustive searches, use GridSearchCV.\n",
      "  % (grid_size, self.n_iter, grid_size), UserWarning)\n"
     ]
    }
   ],
   "source": [
    "param_grid = {'C': [float(x) for x in np.linspace(0.1, 1000, num = 5)],  \n",
    "              'gamma': [float(x) for x in np.linspace(0.01, 1, num = 5)], \n",
    "              'kernel': ['rbf']}  \n",
    "\n",
    "svc=SVC()\n",
    "  \n",
    "svc_random = RandomizedSearchCV(estimator=svc, param_distributions = param_grid, n_iter = 100, cv = 3,scoring='recall', n_jobs=-1)\n",
    "\n",
    "svc_random.fit(X_train, y_train)\n"
   ]
  },
  {
   "cell_type": "code",
   "execution_count": null,
   "metadata": {},
   "outputs": [],
   "source": []
  }
 ],
 "metadata": {
  "kernelspec": {
   "display_name": "Python 3",
   "language": "python",
   "name": "python3"
  },
  "language_info": {
   "codemirror_mode": {
    "name": "ipython",
    "version": 3
   },
   "file_extension": ".py",
   "mimetype": "text/x-python",
   "name": "python",
   "nbconvert_exporter": "python",
   "pygments_lexer": "ipython3",
   "version": "3.6.4"
  }
 },
 "nbformat": 4,
 "nbformat_minor": 2
}
